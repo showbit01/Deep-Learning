{
  "nbformat": 4,
  "nbformat_minor": 0,
  "metadata": {
    "colab": {
      "name": "FineTunning-VGG16-imagenet.ipynb",
      "provenance": []
    },
    "kernelspec": {
      "name": "python3",
      "display_name": "Python 3"
    },
    "accelerator": "GPU"
  },
  "cells": [
    {
      "cell_type": "code",
      "metadata": {
        "id": "zZ-g4M5kaKM9",
        "colab_type": "code",
        "colab": {
          "base_uri": "https://localhost:8080/",
          "height": 70
        },
        "outputId": "fea6e680-fec7-4295-c22b-754646a1b501"
      },
      "source": [
        "import tensorflow as tf\n",
        "import pandas as pd\n",
        "import numpy as np\n",
        "import matplotlib.pyplot as plt\n",
        "import seaborn as sns\n",
        "import random"
      ],
      "execution_count": null,
      "outputs": [
        {
          "output_type": "stream",
          "text": [
            "/usr/local/lib/python3.6/dist-packages/statsmodels/tools/_testing.py:19: FutureWarning: pandas.util.testing is deprecated. Use the functions in the public API at pandas.testing instead.\n",
            "  import pandas.util.testing as tm\n"
          ],
          "name": "stderr"
        }
      ]
    },
    {
      "cell_type": "code",
      "metadata": {
        "id": "E2WcrYlJgcHR",
        "colab_type": "code",
        "colab": {}
      },
      "source": [
        "import zipfile\n",
        "with zipfile.ZipFile(\"/content/drive/My Drive/PASCAL_VOC_2012.zip\",\"r\") as zip_ref:\n",
        "    zip_ref.extractall(\"/content/\")"
      ],
      "execution_count": null,
      "outputs": []
    },
    {
      "cell_type": "code",
      "metadata": {
        "id": "M7yY1QROadw8",
        "colab_type": "code",
        "colab": {
          "base_uri": "https://localhost:8080/",
          "height": 860
        },
        "outputId": "a434b632-5889-4ac2-c5e5-b08fe0fb4f67"
      },
      "source": [
        "base_model = tf.keras.applications.VGG16(weights='imagenet', include_top = False)\n",
        "# from keras.applications import VGG16\n",
        "# base_model = VGG16(weights=\"imagenet\", include_top=False)\n",
        "\n",
        "print(base_model.summary())"
      ],
      "execution_count": null,
      "outputs": [
        {
          "output_type": "stream",
          "text": [
            "Downloading data from https://storage.googleapis.com/tensorflow/keras-applications/vgg16/vgg16_weights_tf_dim_ordering_tf_kernels_notop.h5\n",
            "58892288/58889256 [==============================] - 1s 0us/step\n",
            "Model: \"vgg16\"\n",
            "_________________________________________________________________\n",
            "Layer (type)                 Output Shape              Param #   \n",
            "=================================================================\n",
            "input_1 (InputLayer)         [(None, None, None, 3)]   0         \n",
            "_________________________________________________________________\n",
            "block1_conv1 (Conv2D)        (None, None, None, 64)    1792      \n",
            "_________________________________________________________________\n",
            "block1_conv2 (Conv2D)        (None, None, None, 64)    36928     \n",
            "_________________________________________________________________\n",
            "block1_pool (MaxPooling2D)   (None, None, None, 64)    0         \n",
            "_________________________________________________________________\n",
            "block2_conv1 (Conv2D)        (None, None, None, 128)   73856     \n",
            "_________________________________________________________________\n",
            "block2_conv2 (Conv2D)        (None, None, None, 128)   147584    \n",
            "_________________________________________________________________\n",
            "block2_pool (MaxPooling2D)   (None, None, None, 128)   0         \n",
            "_________________________________________________________________\n",
            "block3_conv1 (Conv2D)        (None, None, None, 256)   295168    \n",
            "_________________________________________________________________\n",
            "block3_conv2 (Conv2D)        (None, None, None, 256)   590080    \n",
            "_________________________________________________________________\n",
            "block3_conv3 (Conv2D)        (None, None, None, 256)   590080    \n",
            "_________________________________________________________________\n",
            "block3_pool (MaxPooling2D)   (None, None, None, 256)   0         \n",
            "_________________________________________________________________\n",
            "block4_conv1 (Conv2D)        (None, None, None, 512)   1180160   \n",
            "_________________________________________________________________\n",
            "block4_conv2 (Conv2D)        (None, None, None, 512)   2359808   \n",
            "_________________________________________________________________\n",
            "block4_conv3 (Conv2D)        (None, None, None, 512)   2359808   \n",
            "_________________________________________________________________\n",
            "block4_pool (MaxPooling2D)   (None, None, None, 512)   0         \n",
            "_________________________________________________________________\n",
            "block5_conv1 (Conv2D)        (None, None, None, 512)   2359808   \n",
            "_________________________________________________________________\n",
            "block5_conv2 (Conv2D)        (None, None, None, 512)   2359808   \n",
            "_________________________________________________________________\n",
            "block5_conv3 (Conv2D)        (None, None, None, 512)   2359808   \n",
            "_________________________________________________________________\n",
            "block5_pool (MaxPooling2D)   (None, None, None, 512)   0         \n",
            "=================================================================\n",
            "Total params: 14,714,688\n",
            "Trainable params: 14,714,688\n",
            "Non-trainable params: 0\n",
            "_________________________________________________________________\n",
            "None\n"
          ],
          "name": "stdout"
        }
      ]
    },
    {
      "cell_type": "code",
      "metadata": {
        "id": "8pi8kKjIajPw",
        "colab_type": "code",
        "colab": {
          "base_uri": "https://localhost:8080/",
          "height": 340
        },
        "outputId": "aa7aad92-61fa-4fdd-d5c4-2494e1c40eb3"
      },
      "source": [
        "for i, layer in enumerate(base_model.layers):\n",
        "  print(i, layer.name)"
      ],
      "execution_count": null,
      "outputs": [
        {
          "output_type": "stream",
          "text": [
            "0 input_3\n",
            "1 block1_conv1\n",
            "2 block1_conv2\n",
            "3 block1_pool\n",
            "4 block2_conv1\n",
            "5 block2_conv2\n",
            "6 block2_pool\n",
            "7 block3_conv1\n",
            "8 block3_conv2\n",
            "9 block3_conv3\n",
            "10 block3_pool\n",
            "11 block4_conv1\n",
            "12 block4_conv2\n",
            "13 block4_conv3\n",
            "14 block4_pool\n",
            "15 block5_conv1\n",
            "16 block5_conv2\n",
            "17 block5_conv3\n",
            "18 block5_pool\n"
          ],
          "name": "stdout"
        }
      ]
    },
    {
      "cell_type": "code",
      "metadata": {
        "id": "JnwpGcfLaj_O",
        "colab_type": "code",
        "colab": {}
      },
      "source": [
        "x = base_model.output\n",
        "x = tf.keras.layers.GlobalAveragePooling2D()(x)"
      ],
      "execution_count": null,
      "outputs": []
    },
    {
      "cell_type": "code",
      "metadata": {
        "id": "Q8__0bDfaoRQ",
        "colab_type": "code",
        "colab": {}
      },
      "source": [
        "x = tf.keras.layers.Dense(1024, activation='relu')(x)\n",
        "x = tf.keras.layers.Dense(1024, activation='relu')(x)\n",
        "x = tf.keras.layers.Dense(1024, activation='relu')(x)\n",
        "x = tf.keras.layers.Dense(512, activation='relu')(x)\n",
        "preds = tf.keras.layers.Dense(20, activation ='softmax')(x)"
      ],
      "execution_count": null,
      "outputs": []
    },
    {
      "cell_type": "code",
      "metadata": {
        "id": "hsrrNlttasjy",
        "colab_type": "code",
        "colab": {
          "base_uri": "https://localhost:8080/",
          "height": 1000
        },
        "outputId": "f449cb9d-89fd-4e6e-aa78-529cef13f348"
      },
      "source": [
        "model = tf.keras.models.Model(inputs=base_model.input, outputs=preds)\n",
        "print(model.summary())"
      ],
      "execution_count": null,
      "outputs": [
        {
          "output_type": "stream",
          "text": [
            "Model: \"model\"\n",
            "_________________________________________________________________\n",
            "Layer (type)                 Output Shape              Param #   \n",
            "=================================================================\n",
            "input_3 (InputLayer)         [(None, None, None, 3)]   0         \n",
            "_________________________________________________________________\n",
            "block1_conv1 (Conv2D)        (None, None, None, 64)    1792      \n",
            "_________________________________________________________________\n",
            "block1_conv2 (Conv2D)        (None, None, None, 64)    36928     \n",
            "_________________________________________________________________\n",
            "block1_pool (MaxPooling2D)   (None, None, None, 64)    0         \n",
            "_________________________________________________________________\n",
            "block2_conv1 (Conv2D)        (None, None, None, 128)   73856     \n",
            "_________________________________________________________________\n",
            "block2_conv2 (Conv2D)        (None, None, None, 128)   147584    \n",
            "_________________________________________________________________\n",
            "block2_pool (MaxPooling2D)   (None, None, None, 128)   0         \n",
            "_________________________________________________________________\n",
            "block3_conv1 (Conv2D)        (None, None, None, 256)   295168    \n",
            "_________________________________________________________________\n",
            "block3_conv2 (Conv2D)        (None, None, None, 256)   590080    \n",
            "_________________________________________________________________\n",
            "block3_conv3 (Conv2D)        (None, None, None, 256)   590080    \n",
            "_________________________________________________________________\n",
            "block3_pool (MaxPooling2D)   (None, None, None, 256)   0         \n",
            "_________________________________________________________________\n",
            "block4_conv1 (Conv2D)        (None, None, None, 512)   1180160   \n",
            "_________________________________________________________________\n",
            "block4_conv2 (Conv2D)        (None, None, None, 512)   2359808   \n",
            "_________________________________________________________________\n",
            "block4_conv3 (Conv2D)        (None, None, None, 512)   2359808   \n",
            "_________________________________________________________________\n",
            "block4_pool (MaxPooling2D)   (None, None, None, 512)   0         \n",
            "_________________________________________________________________\n",
            "block5_conv1 (Conv2D)        (None, None, None, 512)   2359808   \n",
            "_________________________________________________________________\n",
            "block5_conv2 (Conv2D)        (None, None, None, 512)   2359808   \n",
            "_________________________________________________________________\n",
            "block5_conv3 (Conv2D)        (None, None, None, 512)   2359808   \n",
            "_________________________________________________________________\n",
            "block5_pool (MaxPooling2D)   (None, None, None, 512)   0         \n",
            "_________________________________________________________________\n",
            "global_average_pooling2d_1 ( (None, 512)               0         \n",
            "_________________________________________________________________\n",
            "dense (Dense)                (None, 1024)              525312    \n",
            "_________________________________________________________________\n",
            "dense_1 (Dense)              (None, 1024)              1049600   \n",
            "_________________________________________________________________\n",
            "dense_2 (Dense)              (None, 1024)              1049600   \n",
            "_________________________________________________________________\n",
            "dense_3 (Dense)              (None, 512)               524800    \n",
            "_________________________________________________________________\n",
            "dense_4 (Dense)              (None, 20)                10260     \n",
            "=================================================================\n",
            "Total params: 17,874,260\n",
            "Trainable params: 17,874,260\n",
            "Non-trainable params: 0\n",
            "_________________________________________________________________\n",
            "None\n"
          ],
          "name": "stdout"
        }
      ]
    },
    {
      "cell_type": "code",
      "metadata": {
        "id": "0durSmYVaym-",
        "colab_type": "code",
        "colab": {
          "base_uri": "https://localhost:8080/",
          "height": 442
        },
        "outputId": "02848a6a-5b1d-41f2-fe47-2e6fa2f10c2c"
      },
      "source": [
        "for i, layer in enumerate(model.layers):\n",
        "  print(i, layer.name)"
      ],
      "execution_count": null,
      "outputs": [
        {
          "output_type": "stream",
          "text": [
            "0 input_3\n",
            "1 block1_conv1\n",
            "2 block1_conv2\n",
            "3 block1_pool\n",
            "4 block2_conv1\n",
            "5 block2_conv2\n",
            "6 block2_pool\n",
            "7 block3_conv1\n",
            "8 block3_conv2\n",
            "9 block3_conv3\n",
            "10 block3_pool\n",
            "11 block4_conv1\n",
            "12 block4_conv2\n",
            "13 block4_conv3\n",
            "14 block4_pool\n",
            "15 block5_conv1\n",
            "16 block5_conv2\n",
            "17 block5_conv3\n",
            "18 block5_pool\n",
            "19 global_average_pooling2d_1\n",
            "20 dense\n",
            "21 dense_1\n",
            "22 dense_2\n",
            "23 dense_3\n",
            "24 dense_4\n"
          ],
          "name": "stdout"
        }
      ]
    },
    {
      "cell_type": "code",
      "metadata": {
        "id": "gQMloTDpajGC",
        "colab_type": "code",
        "colab": {
          "base_uri": "https://localhost:8080/",
          "height": 442
        },
        "outputId": "5241aa51-f5d5-487a-fa55-3fce146c94ab"
      },
      "source": [
        "for i, layer in enumerate(model.layers):\n",
        "  print(i, layer.name)"
      ],
      "execution_count": null,
      "outputs": [
        {
          "output_type": "stream",
          "text": [
            "0 input_3\n",
            "1 block1_conv1\n",
            "2 block1_conv2\n",
            "3 block1_pool\n",
            "4 block2_conv1\n",
            "5 block2_conv2\n",
            "6 block2_pool\n",
            "7 block3_conv1\n",
            "8 block3_conv2\n",
            "9 block3_conv3\n",
            "10 block3_pool\n",
            "11 block4_conv1\n",
            "12 block4_conv2\n",
            "13 block4_conv3\n",
            "14 block4_pool\n",
            "15 block5_conv1\n",
            "16 block5_conv2\n",
            "17 block5_conv3\n",
            "18 block5_pool\n",
            "19 global_average_pooling2d_1\n",
            "20 dense\n",
            "21 dense_1\n",
            "22 dense_2\n",
            "23 dense_3\n",
            "24 dense_4\n"
          ],
          "name": "stdout"
        }
      ]
    },
    {
      "cell_type": "code",
      "metadata": {
        "id": "3YzCsFLzcM9x",
        "colab_type": "code",
        "colab": {}
      },
      "source": [
        "for layer in model.layers[:18]:\n",
        "  layer.trainable = False"
      ],
      "execution_count": null,
      "outputs": []
    },
    {
      "cell_type": "code",
      "metadata": {
        "id": "9eiCHIdRcTGm",
        "colab_type": "code",
        "colab": {}
      },
      "source": [
        "for layer in model.layers[18:]:\n",
        "  layer.trainable = True"
      ],
      "execution_count": null,
      "outputs": []
    },
    {
      "cell_type": "code",
      "metadata": {
        "id": "2i8EhD7TcTtd",
        "colab_type": "code",
        "colab": {}
      },
      "source": [
        "train_datagen = tf.keras.preprocessing.image.ImageDataGenerator(preprocessing_function=tf.keras.applications.vgg16.preprocess_input)"
      ],
      "execution_count": null,
      "outputs": []
    },
    {
      "cell_type": "code",
      "metadata": {
        "id": "ciYchcNFcnYo",
        "colab_type": "code",
        "colab": {}
      },
      "source": [
        "import zipfile\n",
        "with zipfile.ZipFile(\"/content/drive/My Drive/pascal voc2012/JPEGImages.zip\",\"r\") as zip_ref:\n",
        "    zip_ref.extractall(\"/content/images\")"
      ],
      "execution_count": null,
      "outputs": []
    },
    {
      "cell_type": "code",
      "metadata": {
        "id": "agUlQErTd0JY",
        "colab_type": "code",
        "colab": {}
      },
      "source": [
        "import pickle \n",
        "import glob\n",
        "\n",
        "with open('/content/drive/My Drive/pascal voc2012/labels_with_foldername.txt','rb')as fp:\n",
        "  labels_fname = pickle.load(fp)"
      ],
      "execution_count": null,
      "outputs": []
    },
    {
      "cell_type": "code",
      "metadata": {
        "id": "JkiUUVMofJ1u",
        "colab_type": "code",
        "colab": {
          "base_uri": "https://localhost:8080/",
          "height": 85
        },
        "outputId": "8033e6ee-fc7f-439a-a478-85d3694400e6"
      },
      "source": [
        "CLASSES = np.unique(np.asarray(labels_fname[:,1]))\n",
        "CLASSES"
      ],
      "execution_count": null,
      "outputs": [
        {
          "output_type": "execute_result",
          "data": {
            "text/plain": [
              "array(['aeroplane', 'bicycle', 'bird', 'boat', 'bottle', 'bus', 'car',\n",
              "       'cat', 'chair', 'cow', 'diningtable', 'dog', 'horse', 'motorbike',\n",
              "       'person', 'pottedplant', 'sheep', 'sofa', 'train', 'tvmonitor'],\n",
              "      dtype='<U11')"
            ]
          },
          "metadata": {
            "tags": []
          },
          "execution_count": 21
        }
      ]
    },
    {
      "cell_type": "code",
      "metadata": {
        "id": "lYBNA5rTcWvC",
        "colab_type": "code",
        "colab": {
          "base_uri": "https://localhost:8080/",
          "height": 34
        },
        "outputId": "a98af8d4-3c55-46ec-b5d9-221341f1524d"
      },
      "source": [
        "train_generator = train_datagen.flow_from_directory('/content/PASCAL_VOC_2012', \n",
        "                                                   target_size = (224, 224),\n",
        "                                                   color_mode = 'rgb',\n",
        "                                                   batch_size = 32,\n",
        "                                                   class_mode = 'categorical',\n",
        "                                                   shuffle = True,\n",
        "                                                   classes =(['aeroplane', 'bicycle', 'bird', 'boat', 'bottle', 'bus', 'car',\n",
        "       'cat', 'chair', 'cow', 'diningtable', 'dog', 'horse', 'motorbike',\n",
        "       'person', 'pottedplant', 'sheep', 'sofa', 'train', 'tvmonitor'])\n",
        "                                                    )"
      ],
      "execution_count": null,
      "outputs": [
        {
          "output_type": "stream",
          "text": [
            "Found 17125 images belonging to 20 classes.\n"
          ],
          "name": "stdout"
        }
      ]
    },
    {
      "cell_type": "code",
      "metadata": {
        "id": "JRnVjuhdqyNq",
        "colab_type": "code",
        "colab": {}
      },
      "source": [
        "model.compile(optimizer='adam', loss='categorical_crossentropy', metrics=['accuracy'])"
      ],
      "execution_count": null,
      "outputs": []
    },
    {
      "cell_type": "code",
      "metadata": {
        "id": "ahAYfJlT4MAN",
        "colab_type": "code",
        "colab": {
          "base_uri": "https://localhost:8080/",
          "height": 292
        },
        "outputId": "4bacdd9c-37b1-41ba-ce38-8aa9d504edaf"
      },
      "source": [
        "history = model.fit_generator(generator = train_generator, steps_per_epoch=train_generator.n//train_generator.batch_size, epochs = 6)"
      ],
      "execution_count": null,
      "outputs": [
        {
          "output_type": "stream",
          "text": [
            "WARNING:tensorflow:From <ipython-input-24-b89d44e559fa>:1: Model.fit_generator (from tensorflow.python.keras.engine.training) is deprecated and will be removed in a future version.\n",
            "Instructions for updating:\n",
            "Please use Model.fit, which supports generators.\n",
            "Epoch 1/6\n",
            "535/535 [==============================] - 99s 186ms/step - loss: 1.1011 - accuracy: 0.7001\n",
            "Epoch 2/6\n",
            "535/535 [==============================] - 96s 179ms/step - loss: 0.8032 - accuracy: 0.7598\n",
            "Epoch 3/6\n",
            "535/535 [==============================] - 96s 179ms/step - loss: 0.6964 - accuracy: 0.7864\n",
            "Epoch 4/6\n",
            "535/535 [==============================] - 96s 179ms/step - loss: 0.6290 - accuracy: 0.8046\n",
            "Epoch 5/6\n",
            "535/535 [==============================] - 95s 178ms/step - loss: 0.5474 - accuracy: 0.8213\n",
            "Epoch 6/6\n",
            "535/535 [==============================] - 96s 179ms/step - loss: 0.4725 - accuracy: 0.8409\n"
          ],
          "name": "stdout"
        }
      ]
    },
    {
      "cell_type": "code",
      "metadata": {
        "id": "pOQONB0E4VAe",
        "colab_type": "code",
        "colab": {
          "base_uri": "https://localhost:8080/",
          "height": 559
        },
        "outputId": "d8a9cbb4-d248-4547-8886-6ccf954b4aae"
      },
      "source": [
        "acc = history.history['accuracy']\n",
        "loss = history.history['loss']\n",
        "\n",
        "plt.figure()\n",
        "plt.plot(acc, label='Training Accuracy')\n",
        "plt.ylabel('Accuracy')\n",
        "plt.title('Training Accuracy')\n",
        "\n",
        "plt.figure()\n",
        "\n",
        "plt.plot(loss, label='Training Loss')\n",
        "plt.ylabel('Loss')\n",
        "plt.title('Training Loss')\n",
        "plt.xlabel('epoch')\n",
        "plt.grid()\n",
        "plt.show()"
      ],
      "execution_count": null,
      "outputs": [
        {
          "output_type": "display_data",
          "data": {
            "image/png": "[encoded data removed]",
            "text/plain": [
              "<Figure size 432x288 with 1 Axes>"
            ]
          },
          "metadata": {
            "tags": [],
            "needs_background": "light"
          }
        },
        {
          "output_type": "display_data",
          "data": {
            "image/png": "[encoded data removed]",
            "text/plain": [
              "<Figure size 432x288 with 1 Axes>"
            ]
          },
          "metadata": {
            "tags": [],
            "needs_background": "light"
          }
        }
      ]
    },
    {
      "cell_type": "markdown",
      "metadata": {
        "id": "YTWvLYZMmoqw",
        "colab_type": "text"
      },
      "source": [
        "#Evaluate the Model :TEST ACCURACY"
      ]
    },
    {
      "cell_type": "code",
      "metadata": {
        "id": "9CPBo_j_-IeM",
        "colab_type": "code",
        "colab": {}
      },
      "source": [
        "test_images = []\n",
        "for i in CLASSES:\n",
        "  count=0\n",
        "  for j in glob.glob('/content/PASCAL_VOC_2012/{}/*.jpg'.format(i)):\n",
        "    test_images.append(j)\n",
        "    test_images.append(i)\n",
        "    count+=1\n",
        "    if count > 50:\n",
        "      break"
      ],
      "execution_count": null,
      "outputs": []
    },
    {
      "cell_type": "code",
      "metadata": {
        "id": "b4zbordp_VCH",
        "colab_type": "code",
        "colab": {
          "base_uri": "https://localhost:8080/",
          "height": 238
        },
        "outputId": "e9c69bac-2eb9-4707-ee4b-095af902dea9"
      },
      "source": [
        "test_images = np.asarray(test_images).reshape((-1,2))"
      ],
      "execution_count": null,
      "outputs": [
        {
          "output_type": "execute_result",
          "data": {
            "text/plain": [
              "array([['/content/PASCAL_VOC_2012/aeroplane/2008_001546.jpg',\n",
              "        'aeroplane'],\n",
              "       ['/content/PASCAL_VOC_2012/aeroplane/2010_004855.jpg',\n",
              "        'aeroplane'],\n",
              "       ['/content/PASCAL_VOC_2012/aeroplane/2010_002577.jpg',\n",
              "        'aeroplane'],\n",
              "       ...,\n",
              "       ['/content/PASCAL_VOC_2012/tvmonitor/2010_004503.jpg',\n",
              "        'tvmonitor'],\n",
              "       ['/content/PASCAL_VOC_2012/tvmonitor/2010_000705.jpg',\n",
              "        'tvmonitor'],\n",
              "       ['/content/PASCAL_VOC_2012/tvmonitor/2008_004004.jpg',\n",
              "        'tvmonitor']], dtype='<U52')"
            ]
          },
          "metadata": {
            "tags": []
          },
          "execution_count": 29
        }
      ]
    },
    {
      "cell_type": "code",
      "metadata": {
        "id": "24gL1Is5mqDt",
        "colab_type": "code",
        "colab": {}
      },
      "source": [
        "import matplotlib.pyplot as plt\n",
        "pred = []\n",
        "for i in test_images[:,0]:\n",
        "  Sample_Image = tf.keras.preprocessing.image.img_to_array(plt.imread(i))\n",
        "  Sample_Image = np.expand_dims(Sample_Image, axis = 0)\n",
        "  Sample_Image = tf.keras.applications.resnet50.preprocess_input(Sample_Image)\n",
        "  predictions = model.predict(Sample_Image)\n",
        "  pred.append(predictions)\n",
        "# print('Predictions:', predictions)"
      ],
      "execution_count": null,
      "outputs": []
    },
    {
      "cell_type": "code",
      "metadata": {
        "id": "mWUf9U4mBqwT",
        "colab_type": "code",
        "colab": {
          "base_uri": "https://localhost:8080/",
          "height": 136
        },
        "outputId": "e711c323-de53-4224-ac7c-8a7a592dd235"
      },
      "source": [
        "test_labels = []\n",
        "for label in (test_images[:,1]):\n",
        "  # test_labels.append(np.argmax(CLASSES[]))\n",
        "  test_labels.append(label)\n",
        "test_labels = np.asarray(test_labels).reshape((-1,1))\n",
        "test_labels\n"
      ],
      "execution_count": null,
      "outputs": [
        {
          "output_type": "execute_result",
          "data": {
            "text/plain": [
              "array([['aeroplane'],\n",
              "       ['aeroplane'],\n",
              "       ['aeroplane'],\n",
              "       ...,\n",
              "       ['tvmonitor'],\n",
              "       ['tvmonitor'],\n",
              "       ['tvmonitor']], dtype='<U11')"
            ]
          },
          "metadata": {
            "tags": []
          },
          "execution_count": 44
        }
      ]
    },
    {
      "cell_type": "code",
      "metadata": {
        "id": "dXkmSm9MA8Dk",
        "colab_type": "code",
        "colab": {}
      },
      "source": [
        "test_pred = []\n",
        "for i in pred:\n",
        "  test_pred.append(CLASSES[np.argmax(i)])"
      ],
      "execution_count": null,
      "outputs": []
    },
    {
      "cell_type": "code",
      "metadata": {
        "id": "R0bb4-D8C0hD",
        "colab_type": "code",
        "colab": {
          "base_uri": "https://localhost:8080/",
          "height": 476
        },
        "outputId": "adb631d7-08e7-44d8-90ca-bcd006af8c7d"
      },
      "source": [
        "from sklearn.metrics import classification_report ,confusion_matrix ,plot_confusion_matrix\n",
        "print(classification_report(test_labels,test_pred, target_names=CLASSES))"
      ],
      "execution_count": null,
      "outputs": [
        {
          "output_type": "stream",
          "text": [
            "              precision    recall  f1-score   support\n",
            "\n",
            "   aeroplane       0.94      0.90      0.92        51\n",
            "     bicycle       0.68      0.82      0.74        51\n",
            "        bird       0.91      0.98      0.94        51\n",
            "        boat       0.98      0.78      0.87        51\n",
            "      bottle       0.97      0.65      0.78        51\n",
            "         bus       0.96      0.84      0.90        51\n",
            "         car       0.84      0.73      0.78        51\n",
            "         cat       0.70      0.84      0.77        51\n",
            "       chair       0.56      0.55      0.55        51\n",
            "         cow       0.96      0.84      0.90        51\n",
            " diningtable       0.91      0.20      0.32        51\n",
            "         dog       0.94      0.59      0.72        51\n",
            "       horse       0.93      0.73      0.81        51\n",
            "   motorbike       0.93      0.25      0.40        51\n",
            "      person       0.23      0.94      0.37        51\n",
            " pottedplant       0.91      0.41      0.57        51\n",
            "       sheep       0.79      0.94      0.86        51\n",
            "        sofa       0.54      0.43      0.48        51\n",
            "       train       0.81      0.98      0.88        51\n",
            "   tvmonitor       0.83      0.67      0.74        51\n",
            "\n",
            "    accuracy                           0.70      1020\n",
            "   macro avg       0.81      0.70      0.72      1020\n",
            "weighted avg       0.81      0.70      0.72      1020\n",
            "\n"
          ],
          "name": "stdout"
        }
      ]
    },
    {
      "cell_type": "markdown",
      "metadata": {
        "id": "3pXjqJnJDrbc",
        "colab_type": "text"
      },
      "source": [
        "#EVALUATION: Binary Classification for Bus"
      ]
    },
    {
      "cell_type": "code",
      "metadata": {
        "id": "_JjQkFAGDl9J",
        "colab_type": "code",
        "colab": {}
      },
      "source": [
        "conf_matrix = confusion_matrix(test_labels,test_pred, labels = (['aeroplane', 'bicycle', 'bird', 'boat', 'bottle', 'bus', 'car',\n",
        "       'cat', 'chair', 'cow', 'diningtable', 'dog', 'horse', 'motorbike',\n",
        "       'person', 'pottedplant', 'sheep', 'sofa', 'train', 'tvmonitor']))"
      ],
      "execution_count": null,
      "outputs": []
    },
    {
      "cell_type": "code",
      "metadata": {
        "id": "2baK1bD5GPBo",
        "colab_type": "code",
        "colab": {
          "base_uri": "https://localhost:8080/",
          "height": 34
        },
        "outputId": "8863dce5-a274-42f0-c1cf-a156138e940a"
      },
      "source": [
        "print(\"CLASS BUS Accuracy:{}%\".format(conf_matrix[5,5]*100/51))"
      ],
      "execution_count": null,
      "outputs": [
        {
          "output_type": "stream",
          "text": [
            "CLASS BUS Accuracy:84.31372549019608%\n"
          ],
          "name": "stdout"
        }
      ]
    }
  ]
}